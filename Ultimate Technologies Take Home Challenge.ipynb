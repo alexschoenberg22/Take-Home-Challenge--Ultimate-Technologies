{
 "cells": [
  {
   "cell_type": "markdown",
   "id": "adaafcf3",
   "metadata": {},
   "source": [
    "# Part 1 - Exploratory Data Analysis"
   ]
  },
  {
   "cell_type": "markdown",
   "id": "d7d989fa",
   "metadata": {},
   "source": [
    "The attached logins.json file contains (simulated) timestamps of user logins in a particular\n",
    "geographic location. Aggregate these login counts based on 15minute\n",
    "time intervals, and\n",
    "visualize and describe the resulting time series of login counts in ways that best characterize the\n",
    "underlying patterns of the demand. Please report/illustrate important features of the demand,\n",
    "such as daily cycles. If there are data quality issues, please report them."
   ]
  },
  {
   "cell_type": "code",
   "execution_count": 1,
   "id": "2e4d8747",
   "metadata": {},
   "outputs": [],
   "source": [
    "import pandas as pd\n",
    "import matplotlib.pyplot as plt\n",
    "import numpy as np\n",
    "import datetime"
   ]
  },
  {
   "cell_type": "code",
   "execution_count": 2,
   "id": "3e175a62",
   "metadata": {},
   "outputs": [],
   "source": [
    "logins = pd.read_json('logins.json')"
   ]
  },
  {
   "cell_type": "code",
   "execution_count": 3,
   "id": "29d91ff3",
   "metadata": {},
   "outputs": [
    {
     "data": {
      "text/html": [
       "<div>\n",
       "<style scoped>\n",
       "    .dataframe tbody tr th:only-of-type {\n",
       "        vertical-align: middle;\n",
       "    }\n",
       "\n",
       "    .dataframe tbody tr th {\n",
       "        vertical-align: top;\n",
       "    }\n",
       "\n",
       "    .dataframe thead th {\n",
       "        text-align: right;\n",
       "    }\n",
       "</style>\n",
       "<table border=\"1\" class=\"dataframe\">\n",
       "  <thead>\n",
       "    <tr style=\"text-align: right;\">\n",
       "      <th></th>\n",
       "      <th>login_time</th>\n",
       "    </tr>\n",
       "  </thead>\n",
       "  <tbody>\n",
       "    <tr>\n",
       "      <th>0</th>\n",
       "      <td>1970-01-01 20:13:18</td>\n",
       "    </tr>\n",
       "    <tr>\n",
       "      <th>1</th>\n",
       "      <td>1970-01-01 20:16:10</td>\n",
       "    </tr>\n",
       "    <tr>\n",
       "      <th>2</th>\n",
       "      <td>1970-01-01 20:16:37</td>\n",
       "    </tr>\n",
       "    <tr>\n",
       "      <th>3</th>\n",
       "      <td>1970-01-01 20:16:36</td>\n",
       "    </tr>\n",
       "    <tr>\n",
       "      <th>4</th>\n",
       "      <td>1970-01-01 20:26:21</td>\n",
       "    </tr>\n",
       "  </tbody>\n",
       "</table>\n",
       "</div>"
      ],
      "text/plain": [
       "           login_time\n",
       "0 1970-01-01 20:13:18\n",
       "1 1970-01-01 20:16:10\n",
       "2 1970-01-01 20:16:37\n",
       "3 1970-01-01 20:16:36\n",
       "4 1970-01-01 20:26:21"
      ]
     },
     "execution_count": 3,
     "metadata": {},
     "output_type": "execute_result"
    }
   ],
   "source": [
    "#inspect dataframe - first 5 entries\n",
    "logins.head()"
   ]
  },
  {
   "cell_type": "code",
   "execution_count": 4,
   "id": "8f531a02",
   "metadata": {},
   "outputs": [
    {
     "name": "stdout",
     "output_type": "stream",
     "text": [
      "<class 'pandas.core.frame.DataFrame'>\n",
      "RangeIndex: 93142 entries, 0 to 93141\n",
      "Data columns (total 1 columns):\n",
      " #   Column      Non-Null Count  Dtype         \n",
      "---  ------      --------------  -----         \n",
      " 0   login_time  93142 non-null  datetime64[ns]\n",
      "dtypes: datetime64[ns](1)\n",
      "memory usage: 727.8 KB\n"
     ]
    }
   ],
   "source": [
    "logins.info()"
   ]
  },
  {
   "cell_type": "code",
   "execution_count": 5,
   "id": "93530429",
   "metadata": {},
   "outputs": [
    {
     "data": {
      "text/plain": [
       "Timestamp('1970-04-13 18:54:23')"
      ]
     },
     "execution_count": 5,
     "metadata": {},
     "output_type": "execute_result"
    }
   ],
   "source": [
    "#last entry\n",
    "logins['login_time'][93141]"
   ]
  },
  {
   "cell_type": "code",
   "execution_count": 6,
   "id": "88d55713",
   "metadata": {},
   "outputs": [
    {
     "data": {
      "text/html": [
       "<div>\n",
       "<style scoped>\n",
       "    .dataframe tbody tr th:only-of-type {\n",
       "        vertical-align: middle;\n",
       "    }\n",
       "\n",
       "    .dataframe tbody tr th {\n",
       "        vertical-align: top;\n",
       "    }\n",
       "\n",
       "    .dataframe thead th {\n",
       "        text-align: right;\n",
       "    }\n",
       "</style>\n",
       "<table border=\"1\" class=\"dataframe\">\n",
       "  <thead>\n",
       "    <tr style=\"text-align: right;\">\n",
       "      <th></th>\n",
       "      <th>count</th>\n",
       "    </tr>\n",
       "    <tr>\n",
       "      <th>login_time</th>\n",
       "      <th></th>\n",
       "    </tr>\n",
       "  </thead>\n",
       "  <tbody>\n",
       "    <tr>\n",
       "      <th>1970-01-01 20:13:18</th>\n",
       "      <td>1</td>\n",
       "    </tr>\n",
       "    <tr>\n",
       "      <th>1970-01-01 20:16:10</th>\n",
       "      <td>1</td>\n",
       "    </tr>\n",
       "    <tr>\n",
       "      <th>1970-01-01 20:16:37</th>\n",
       "      <td>1</td>\n",
       "    </tr>\n",
       "    <tr>\n",
       "      <th>1970-01-01 20:16:36</th>\n",
       "      <td>1</td>\n",
       "    </tr>\n",
       "    <tr>\n",
       "      <th>1970-01-01 20:26:21</th>\n",
       "      <td>1</td>\n",
       "    </tr>\n",
       "  </tbody>\n",
       "</table>\n",
       "</div>"
      ],
      "text/plain": [
       "                     count\n",
       "login_time                \n",
       "1970-01-01 20:13:18      1\n",
       "1970-01-01 20:16:10      1\n",
       "1970-01-01 20:16:37      1\n",
       "1970-01-01 20:16:36      1\n",
       "1970-01-01 20:26:21      1"
      ]
     },
     "execution_count": 6,
     "metadata": {},
     "output_type": "execute_result"
    }
   ],
   "source": [
    "#set timestamp as index and add a column with a 1 value for each login\n",
    "logins.set_index('login_time', inplace=True)\n",
    "logins['count'] = 1\n",
    "logins.head()"
   ]
  },
  {
   "cell_type": "code",
   "execution_count": 7,
   "id": "8b66e4b9",
   "metadata": {},
   "outputs": [],
   "source": [
    "#resample and aggregate the columns in groups of 15-minute intervals\n",
    "logins_agg15 = logins.resample('15min').sum()"
   ]
  },
  {
   "cell_type": "code",
   "execution_count": 8,
   "id": "f78db72a",
   "metadata": {},
   "outputs": [
    {
     "data": {
      "text/html": [
       "<div>\n",
       "<style scoped>\n",
       "    .dataframe tbody tr th:only-of-type {\n",
       "        vertical-align: middle;\n",
       "    }\n",
       "\n",
       "    .dataframe tbody tr th {\n",
       "        vertical-align: top;\n",
       "    }\n",
       "\n",
       "    .dataframe thead th {\n",
       "        text-align: right;\n",
       "    }\n",
       "</style>\n",
       "<table border=\"1\" class=\"dataframe\">\n",
       "  <thead>\n",
       "    <tr style=\"text-align: right;\">\n",
       "      <th></th>\n",
       "      <th>count</th>\n",
       "    </tr>\n",
       "    <tr>\n",
       "      <th>login_time</th>\n",
       "      <th></th>\n",
       "    </tr>\n",
       "  </thead>\n",
       "  <tbody>\n",
       "    <tr>\n",
       "      <th>1970-01-01 20:00:00</th>\n",
       "      <td>2</td>\n",
       "    </tr>\n",
       "    <tr>\n",
       "      <th>1970-01-01 20:15:00</th>\n",
       "      <td>6</td>\n",
       "    </tr>\n",
       "    <tr>\n",
       "      <th>1970-01-01 20:30:00</th>\n",
       "      <td>9</td>\n",
       "    </tr>\n",
       "    <tr>\n",
       "      <th>1970-01-01 20:45:00</th>\n",
       "      <td>7</td>\n",
       "    </tr>\n",
       "    <tr>\n",
       "      <th>1970-01-01 21:00:00</th>\n",
       "      <td>1</td>\n",
       "    </tr>\n",
       "  </tbody>\n",
       "</table>\n",
       "</div>"
      ],
      "text/plain": [
       "                     count\n",
       "login_time                \n",
       "1970-01-01 20:00:00      2\n",
       "1970-01-01 20:15:00      6\n",
       "1970-01-01 20:30:00      9\n",
       "1970-01-01 20:45:00      7\n",
       "1970-01-01 21:00:00      1"
      ]
     },
     "execution_count": 8,
     "metadata": {},
     "output_type": "execute_result"
    }
   ],
   "source": [
    "#check result\n",
    "logins_agg15.head()"
   ]
  },
  {
   "cell_type": "code",
   "execution_count": 9,
   "id": "e6857f20",
   "metadata": {},
   "outputs": [
    {
     "name": "stdout",
     "output_type": "stream",
     "text": [
      "<class 'pandas.core.frame.DataFrame'>\n",
      "DatetimeIndex: 9788 entries, 1970-01-01 20:00:00 to 1970-04-13 18:45:00\n",
      "Freq: 15T\n",
      "Data columns (total 1 columns):\n",
      " #   Column  Non-Null Count  Dtype\n",
      "---  ------  --------------  -----\n",
      " 0   count   9788 non-null   int64\n",
      "dtypes: int64(1)\n",
      "memory usage: 152.9 KB\n"
     ]
    }
   ],
   "source": [
    "logins_agg15.info()"
   ]
  },
  {
   "cell_type": "markdown",
   "id": "7ca7242f",
   "metadata": {},
   "source": [
    "The login times span from 1/1/1970 at 8pm to 4/13/1970 at 6:45pm. There are 9788 rows, timestamps sampled every 15 minutes, with integer values in the 'count' column."
   ]
  },
  {
   "cell_type": "code",
   "execution_count": 10,
   "id": "8c323881",
   "metadata": {},
   "outputs": [
    {
     "data": {
      "image/png": "[encoded data removed]",
      "text/plain": [
       "<Figure size 432x288 with 1 Axes>"
      ]
     },
     "metadata": {
      "needs_background": "light"
     },
     "output_type": "display_data"
    }
   ],
   "source": [
    "logins_agg15.plot()\n",
    "plt.show()"
   ]
  },
  {
   "cell_type": "markdown",
   "id": "8aa5328d",
   "metadata": {},
   "source": [
    "This initial plot of the data doesn't show much of interest, besides that there might be weekly peaks in login activity that we can further investigate."
   ]
  },
  {
   "cell_type": "code",
   "execution_count": 11,
   "id": "360bf90d",
   "metadata": {},
   "outputs": [
    {
     "data": {
      "text/plain": [
       "3"
      ]
     },
     "execution_count": 11,
     "metadata": {},
     "output_type": "execute_result"
    }
   ],
   "source": [
    "datetime.datetime(1970, 1, 1).weekday()"
   ]
  },
  {
   "cell_type": "markdown",
   "id": "03cbfbf4",
   "metadata": {},
   "source": [
    "This output indicates that January 1, 1970 was a Thursday. The first Sunday of the dataset would thus be January 4."
   ]
  },
  {
   "cell_type": "code",
   "execution_count": 12,
   "id": "a8bb5456",
   "metadata": {},
   "outputs": [
    {
     "data": {
      "text/plain": [
       "6"
      ]
     },
     "execution_count": 12,
     "metadata": {},
     "output_type": "execute_result"
    }
   ],
   "source": [
    "#verify\n",
    "datetime.datetime(1970, 1, 4).weekday()"
   ]
  },
  {
   "cell_type": "markdown",
   "id": "60995639",
   "metadata": {},
   "source": [
    "Starting with Sunday, 1/4/70, we will create a plot of a 4-week cycle and see if any patterns become more clear."
   ]
  },
  {
   "cell_type": "code",
   "execution_count": 13,
   "id": "cdd8a7c8",
   "metadata": {},
   "outputs": [
    {
     "data": {
      "image/png": "[encoded data removed]",
      "text/plain": [
       "<Figure size 432x288 with 1 Axes>"
      ]
     },
     "metadata": {
      "needs_background": "light"
     },
     "output_type": "display_data"
    }
   ],
   "source": [
    "logins_agg15.loc['1970-01-04':'1970-01-31'].rolling(window=75).mean().plot()\n",
    "plt.show()"
   ]
  },
  {
   "cell_type": "markdown",
   "id": "8d8d2094",
   "metadata": {},
   "source": [
    "This plot shows clear weekend spikes, as we noticed in the graph of the whole dataset. It also indicates there might be some cyclical nature to login time/count each day. We can get even more granular to check this out - cutting the window down to just one week.\n",
    "\n",
    "February 1 was a Sunday. This means that March 1 will be a Sunday. We will look into the first week of March, with the double purpose of starting on a Sunday and inspecting some data we haven't gotten a close look at yet."
   ]
  },
  {
   "cell_type": "code",
   "execution_count": 14,
   "id": "07407c75",
   "metadata": {},
   "outputs": [
    {
     "data": {
      "image/png": "[encoded data removed]",
      "text/plain": [
       "<Figure size 432x288 with 1 Axes>"
      ]
     },
     "metadata": {
      "needs_background": "light"
     },
     "output_type": "display_data"
    }
   ],
   "source": [
    "logins_agg15.loc['1970-03-01':'1970-03-07'].rolling(window=75).mean().plot()\n",
    "plt.show()"
   ]
  },
  {
   "cell_type": "markdown",
   "id": "2d0534a7",
   "metadata": {},
   "source": [
    "This plot of a week in March matches with what we observed about the logins from February. There are significant spikes on the weekends, as well as cyclical usage throughout eat day depending on time of day. It seems that the highest usage times are late night (midnight) and midday (noon or so), with low points in the evenings and early mornings.\n",
    "\n",
    "We will keep zooming in and look at individual 48-hour periods in April, along with the other three months, to see if the pattern observed in January, February, and March holds up."
   ]
  },
  {
   "cell_type": "code",
   "execution_count": 15,
   "id": "b098b3eb",
   "metadata": {},
   "outputs": [
    {
     "data": {
      "text/plain": [
       "2"
      ]
     },
     "execution_count": 15,
     "metadata": {},
     "output_type": "execute_result"
    }
   ],
   "source": [
    "datetime.datetime(1970, 4, 8).weekday()"
   ]
  },
  {
   "cell_type": "code",
   "execution_count": 16,
   "id": "d279f527",
   "metadata": {},
   "outputs": [
    {
     "data": {
      "image/png": "[encoded data removed]",
      "text/plain": [
       "<Figure size 432x288 with 1 Axes>"
      ]
     },
     "metadata": {
      "needs_background": "light"
     },
     "output_type": "display_data"
    }
   ],
   "source": [
    "#a randomly selected 48-hour weekday period in April - Wednesday-Thursday\n",
    "logins_agg15.loc['1970-04-08':'1970-04-09'].plot()\n",
    "plt.show()"
   ]
  },
  {
   "cell_type": "code",
   "execution_count": 17,
   "id": "8ec78287",
   "metadata": {},
   "outputs": [
    {
     "data": {
      "text/plain": [
       "6"
      ]
     },
     "execution_count": 17,
     "metadata": {},
     "output_type": "execute_result"
    }
   ],
   "source": [
    "datetime.datetime(1970, 3, 15).weekday()"
   ]
  },
  {
   "cell_type": "code",
   "execution_count": 18,
   "id": "ec95d207",
   "metadata": {},
   "outputs": [
    {
     "data": {
      "image/png": "[encoded data removed]",
      "text/plain": [
       "<Figure size 432x288 with 1 Axes>"
      ]
     },
     "metadata": {
      "needs_background": "light"
     },
     "output_type": "display_data"
    }
   ],
   "source": [
    "#a randomly selected 48-hour weekend period in March - Saturday-Sunday\n",
    "logins_agg15.loc['1970-03-14':'1970-03-15'].plot()\n",
    "plt.show()"
   ]
  },
  {
   "cell_type": "code",
   "execution_count": 19,
   "id": "82aa5081",
   "metadata": {},
   "outputs": [
    {
     "data": {
      "text/plain": [
       "1"
      ]
     },
     "execution_count": 19,
     "metadata": {},
     "output_type": "execute_result"
    }
   ],
   "source": [
    "datetime.datetime(1970, 2, 24).weekday()"
   ]
  },
  {
   "cell_type": "code",
   "execution_count": 20,
   "id": "413ba9c7",
   "metadata": {},
   "outputs": [
    {
     "data": {
      "image/png": "[encoded data removed]",
      "text/plain": [
       "<Figure size 432x288 with 1 Axes>"
      ]
     },
     "metadata": {
      "needs_background": "light"
     },
     "output_type": "display_data"
    }
   ],
   "source": [
    "#a randomly selected 48-hour weekday period in February - Tuesday-Wednesday\n",
    "logins_agg15.loc['1970-02-24':'1970-02-25'].plot()\n",
    "plt.show()"
   ]
  },
  {
   "cell_type": "code",
   "execution_count": 21,
   "id": "44f16f75",
   "metadata": {},
   "outputs": [
    {
     "data": {
      "text/plain": [
       "6"
      ]
     },
     "execution_count": 21,
     "metadata": {},
     "output_type": "execute_result"
    }
   ],
   "source": [
    "datetime.datetime(1970, 1, 18).weekday()"
   ]
  },
  {
   "cell_type": "code",
   "execution_count": 22,
   "id": "f0d0f8c0",
   "metadata": {},
   "outputs": [
    {
     "data": {
      "image/png": "[encoded data removed]",
      "text/plain": [
       "<Figure size 432x288 with 1 Axes>"
      ]
     },
     "metadata": {
      "needs_background": "light"
     },
     "output_type": "display_data"
    }
   ],
   "source": [
    "#a randomly selected 48-hour weekend period in January - Saturday-Sunday\n",
    "logins_agg15.loc['1970-01-17':'1970-01-18'].plot()\n",
    "plt.show()"
   ]
  },
  {
   "cell_type": "markdown",
   "id": "a96d1945",
   "metadata": {},
   "source": [
    "The four graphs above show 48-hour weekend periods in January and March and 48-hour weekday periods in February and April.\n",
    "\n",
    "Based on all of the above visualizations, we can make a few generalizations about the data and its patterns:\n",
    "1. Usage (number of logins) is cyclical in nature on a weekly basis - it is significantly higher on the weekends than it is on the weekdays.\n",
    "2. Usage (number of logins) is also cyclical in nature on a daily basis - it is typically highest late at night (around midnight) and in the middle of the day (around noon) and lowest in the early mornings and evenings.\n",
    "3. Usage is more consistently predictable on weekdays than it is on weekends. The pattern observed in #2 above holds, but is less stark."
   ]
  },
  {
   "cell_type": "markdown",
   "id": "e44debab",
   "metadata": {},
   "source": [
    "# Part 2 ‐ Experiment and Metrics Design"
   ]
  },
  {
   "cell_type": "markdown",
   "id": "733bde58",
   "metadata": {},
   "source": [
    "The neighboring cities of Gotham and Metropolis have complementary circadian rhythms: on\n",
    "weekdays, Ultimate Gotham is most active at night, and Ultimate Metropolis is most active\n",
    "during the day. On weekends, there is reasonable activity in both cities.\n",
    "However, a toll bridge, with a two way toll, between the two cities causes driver partners to tend\n",
    "to be exclusive to each city. The Ultimate managers of city operations for the two cities have\n",
    "proposed an experiment to encourage driver partners to be available in both cities, by\n",
    "reimbursing all toll costs."
   ]
  },
  {
   "cell_type": "markdown",
   "id": "119f2e9b",
   "metadata": {},
   "source": [
    "1) What would you choose as the key measure of success of this experiment in\n",
    "encouraging driver partners to serve both cities, and why would you choose this metric?\n",
    "\n",
    "\n",
    "   As a business, Ultimate most likely considers profit/revenue as its main indicator of success. In order to maximize their revenue across both cities, Ultimate will want to ensure that each city has enough drivers available, but not too many. As with other rideshare options, if there are more drivers available than people who need to be driven, price per ride or unit of distance will decrease, as well as vice versa; if there are too few drivers available for the people who need to be driven, price per ride or unit of distance will increase. For example, if too many drivers are \"stuck\" in Gotham with not enough riders, and too few drivers are \"stuck\" in Metropolis with too many riders, and they don't wish to cross because of the tolls, Ultimate is losing potential revenue. Ultimate needs to achieve a balanced cost for their service in both cities, with enough drivers and enough riders in each. In order to convince drivers to cross the bridge and facilitate this balance, it might be worth Ultimate reimbursing all toll fees. Instead of drivers having to worry about making up the cost of tolls from their wages, they will think only about getting to the \"right\" side depending upon the ridership demand in each city.\n",
    "\n",
    "   In order to determine whether this experiment has been a success once implemented, Ultimate could either compare driver willingness to cross the bridge to meet ridership demand (cross volume/driver-city exclusivity percentages before the tolls were paid versus after) or simply analyze their profit margin for the experiement time period versus a comparable time period before the change."
   ]
  },
  {
   "cell_type": "markdown",
   "id": "86529320",
   "metadata": {},
   "source": [
    "2) Describe a practical experiment you would design to compare the effectiveness of the\n",
    "proposed change in relation to the key measure of success. Please provide details on:\n",
    "a) how you will implement the experiment\n",
    "b) what statistical test(s) you will conduct to verify the significance of the\n",
    "observation\n",
    "c) how you would interpret the results and provide recommendations to the city\n",
    "operations team along with any caveats\n",
    "\n",
    "   The experiment could be implemented by Ultimate setting a time period to fully reimburse drivers' tolls when they cross the bridge. Before doing this, Ultimate must compile solid and complete data about their costs, revenue, driver locations, ridership, costs per units of distance in each city, etc. in the time period when drivers are responsible for paying the tolls themselves. This is the control for the experiment (and the measurement basis of the null hypothesis).\n",
    "    \n",
    "   The statistical test Ultimate can use to determine whether the experiment has been a success is a hypothesis test with, as stated above, the null hypothesis that paying for drivers' tolls does not create a statistically significant change to the volume of bridge crossing (and, as an extension, the potential profit margin of the company). \n",
    "    \n",
    "   If the p-value is below a set threshold, typically 0.05 or 0.01, the null hypothesis does not hold and the company can comfortably make the assumption that the change has been beneficial. This particular experiment would determine whether or not drivers are crossing more because of their tolls being covered. If the null hypothesis is not rejected, the company should stop paying tolls at least temporarily, consider this particular experiment concluded, and start brainstorming a new idea to address the problem. If the null hypothesis is rejected (driver behavior IS affected by the change), Ultimate would then need to perform further analysis of the effect on their key measure of success: profit. If the drivers are crossing more, it naturally follows that Ultimate's costs of doing business will increase as they must pay tolls. It is possible that this will be covered by the revenue generated by the increased number of rides, but not guaranteed. A \"successful\" outcome of rejecting the null hypothesis in this experiment of paying tolls to increase driver crossings would thus necessitate further study as opposed to being a final result and an imperative to make the change permanent."
   ]
  },
  {
   "cell_type": "markdown",
   "id": "85eaab60",
   "metadata": {},
   "source": [
    "# Part 3 - Predictive Modeling"
   ]
  },
  {
   "cell_type": "markdown",
   "id": "bb488f2b",
   "metadata": {},
   "source": [
    "Ultimate is interested in predicting rider retention. To help explore this question, we have\n",
    "provided a sample dataset of a cohort of users who signed up for an Ultimate account in\n",
    "January 2014. The data was pulled several months later; we consider a user retained if they\n",
    "were “active” (i.e. took a trip) in the preceding 30 days.\n",
    "We would like you to use this data set to help understand what factors are the best predictors\n",
    "for retention, and offer suggestions to operationalize those insights to help Ultimate.\n",
    "The data is in the attached file ultimate_data_challenge.json. See below for a detailed\n",
    "description of the dataset. Please include any code you wrote for the analysis and delete the\n",
    "dataset when you have finished with the challenge.\n",
    "1. Perform any cleaning, exploratory analysis, and/or visualizations to use the provided\n",
    "data for this analysis (a few sentences/plots describing your approach will suffice). What\n",
    "fraction of the observed users were retained?\n",
    "2. Build a predictive model to help Ultimate determine whether or not a user will be active in\n",
    "their 6th month on the system. Discuss why you chose your approach, what alternatives\n",
    "you considered, and any concerns you have. How valid is your model? Include any key\n",
    "indicators of model performance.\n",
    "3. Briefly discuss how Ultimate might leverage the insights gained from the model to\n",
    "improve its long term rider retention (again, a few sentences will suffice)."
   ]
  },
  {
   "cell_type": "code",
   "execution_count": 23,
   "id": "85561e44",
   "metadata": {},
   "outputs": [],
   "source": [
    "riders = pd.read_json('ultimate_data_challenge.json')"
   ]
  },
  {
   "cell_type": "code",
   "execution_count": 24,
   "id": "9e0cc2ef",
   "metadata": {},
   "outputs": [
    {
     "data": {
      "text/html": [
       "<div>\n",
       "<style scoped>\n",
       "    .dataframe tbody tr th:only-of-type {\n",
       "        vertical-align: middle;\n",
       "    }\n",
       "\n",
       "    .dataframe tbody tr th {\n",
       "        vertical-align: top;\n",
       "    }\n",
       "\n",
       "    .dataframe thead th {\n",
       "        text-align: right;\n",
       "    }\n",
       "</style>\n",
       "<table border=\"1\" class=\"dataframe\">\n",
       "  <thead>\n",
       "    <tr style=\"text-align: right;\">\n",
       "      <th></th>\n",
       "      <th>city</th>\n",
       "      <th>trips_in_first_30_days</th>\n",
       "      <th>signup_date</th>\n",
       "      <th>avg_rating_of_driver</th>\n",
       "      <th>avg_surge</th>\n",
       "      <th>last_trip_date</th>\n",
       "      <th>phone</th>\n",
       "      <th>surge_pct</th>\n",
       "      <th>ultimate_black_user</th>\n",
       "      <th>weekday_pct</th>\n",
       "      <th>avg_dist</th>\n",
       "      <th>avg_rating_by_driver</th>\n",
       "    </tr>\n",
       "  </thead>\n",
       "  <tbody>\n",
       "    <tr>\n",
       "      <th>0</th>\n",
       "      <td>King's Landing</td>\n",
       "      <td>4</td>\n",
       "      <td>2014-01-25</td>\n",
       "      <td>4.7</td>\n",
       "      <td>1.10</td>\n",
       "      <td>2014-06-17</td>\n",
       "      <td>iPhone</td>\n",
       "      <td>15.4</td>\n",
       "      <td>True</td>\n",
       "      <td>46.2</td>\n",
       "      <td>3.67</td>\n",
       "      <td>5.0</td>\n",
       "    </tr>\n",
       "    <tr>\n",
       "      <th>1</th>\n",
       "      <td>Astapor</td>\n",
       "      <td>0</td>\n",
       "      <td>2014-01-29</td>\n",
       "      <td>5.0</td>\n",
       "      <td>1.00</td>\n",
       "      <td>2014-05-05</td>\n",
       "      <td>Android</td>\n",
       "      <td>0.0</td>\n",
       "      <td>False</td>\n",
       "      <td>50.0</td>\n",
       "      <td>8.26</td>\n",
       "      <td>5.0</td>\n",
       "    </tr>\n",
       "    <tr>\n",
       "      <th>2</th>\n",
       "      <td>Astapor</td>\n",
       "      <td>3</td>\n",
       "      <td>2014-01-06</td>\n",
       "      <td>4.3</td>\n",
       "      <td>1.00</td>\n",
       "      <td>2014-01-07</td>\n",
       "      <td>iPhone</td>\n",
       "      <td>0.0</td>\n",
       "      <td>False</td>\n",
       "      <td>100.0</td>\n",
       "      <td>0.77</td>\n",
       "      <td>5.0</td>\n",
       "    </tr>\n",
       "    <tr>\n",
       "      <th>3</th>\n",
       "      <td>King's Landing</td>\n",
       "      <td>9</td>\n",
       "      <td>2014-01-10</td>\n",
       "      <td>4.6</td>\n",
       "      <td>1.14</td>\n",
       "      <td>2014-06-29</td>\n",
       "      <td>iPhone</td>\n",
       "      <td>20.0</td>\n",
       "      <td>True</td>\n",
       "      <td>80.0</td>\n",
       "      <td>2.36</td>\n",
       "      <td>4.9</td>\n",
       "    </tr>\n",
       "    <tr>\n",
       "      <th>4</th>\n",
       "      <td>Winterfell</td>\n",
       "      <td>14</td>\n",
       "      <td>2014-01-27</td>\n",
       "      <td>4.4</td>\n",
       "      <td>1.19</td>\n",
       "      <td>2014-03-15</td>\n",
       "      <td>Android</td>\n",
       "      <td>11.8</td>\n",
       "      <td>False</td>\n",
       "      <td>82.4</td>\n",
       "      <td>3.13</td>\n",
       "      <td>4.9</td>\n",
       "    </tr>\n",
       "  </tbody>\n",
       "</table>\n",
       "</div>"
      ],
      "text/plain": [
       "             city  trips_in_first_30_days signup_date  avg_rating_of_driver  \\\n",
       "0  King's Landing                       4  2014-01-25                   4.7   \n",
       "1         Astapor                       0  2014-01-29                   5.0   \n",
       "2         Astapor                       3  2014-01-06                   4.3   \n",
       "3  King's Landing                       9  2014-01-10                   4.6   \n",
       "4      Winterfell                      14  2014-01-27                   4.4   \n",
       "\n",
       "   avg_surge last_trip_date    phone  surge_pct  ultimate_black_user  \\\n",
       "0       1.10     2014-06-17   iPhone       15.4                 True   \n",
       "1       1.00     2014-05-05  Android        0.0                False   \n",
       "2       1.00     2014-01-07   iPhone        0.0                False   \n",
       "3       1.14     2014-06-29   iPhone       20.0                 True   \n",
       "4       1.19     2014-03-15  Android       11.8                False   \n",
       "\n",
       "   weekday_pct  avg_dist  avg_rating_by_driver  \n",
       "0         46.2      3.67                   5.0  \n",
       "1         50.0      8.26                   5.0  \n",
       "2        100.0      0.77                   5.0  \n",
       "3         80.0      2.36                   4.9  \n",
       "4         82.4      3.13                   4.9  "
      ]
     },
     "execution_count": 24,
     "metadata": {},
     "output_type": "execute_result"
    }
   ],
   "source": [
    "riders.head()"
   ]
  },
  {
   "cell_type": "code",
   "execution_count": 25,
   "id": "74d42ff6",
   "metadata": {},
   "outputs": [
    {
     "data": {
      "text/plain": [
       "(50000, 12)"
      ]
     },
     "execution_count": 25,
     "metadata": {},
     "output_type": "execute_result"
    }
   ],
   "source": [
    "riders.shape"
   ]
  },
  {
   "cell_type": "code",
   "execution_count": 26,
   "id": "73cf694c",
   "metadata": {},
   "outputs": [
    {
     "name": "stdout",
     "output_type": "stream",
     "text": [
      "<class 'pandas.core.frame.DataFrame'>\n",
      "RangeIndex: 50000 entries, 0 to 49999\n",
      "Data columns (total 12 columns):\n",
      " #   Column                  Non-Null Count  Dtype  \n",
      "---  ------                  --------------  -----  \n",
      " 0   city                    50000 non-null  object \n",
      " 1   trips_in_first_30_days  50000 non-null  int64  \n",
      " 2   signup_date             50000 non-null  object \n",
      " 3   avg_rating_of_driver    41878 non-null  float64\n",
      " 4   avg_surge               50000 non-null  float64\n",
      " 5   last_trip_date          50000 non-null  object \n",
      " 6   phone                   49604 non-null  object \n",
      " 7   surge_pct               50000 non-null  float64\n",
      " 8   ultimate_black_user     50000 non-null  bool   \n",
      " 9   weekday_pct             50000 non-null  float64\n",
      " 10  avg_dist                50000 non-null  float64\n",
      " 11  avg_rating_by_driver    49799 non-null  float64\n",
      "dtypes: bool(1), float64(6), int64(1), object(4)\n",
      "memory usage: 4.2+ MB\n"
     ]
    }
   ],
   "source": [
    "riders.info()"
   ]
  },
  {
   "cell_type": "code",
   "execution_count": 27,
   "id": "3308fbb4",
   "metadata": {},
   "outputs": [
    {
     "data": {
      "text/html": [
       "<div>\n",
       "<style scoped>\n",
       "    .dataframe tbody tr th:only-of-type {\n",
       "        vertical-align: middle;\n",
       "    }\n",
       "\n",
       "    .dataframe tbody tr th {\n",
       "        vertical-align: top;\n",
       "    }\n",
       "\n",
       "    .dataframe thead th {\n",
       "        text-align: right;\n",
       "    }\n",
       "</style>\n",
       "<table border=\"1\" class=\"dataframe\">\n",
       "  <thead>\n",
       "    <tr style=\"text-align: right;\">\n",
       "      <th></th>\n",
       "      <th>trips_in_first_30_days</th>\n",
       "      <th>avg_rating_of_driver</th>\n",
       "      <th>avg_surge</th>\n",
       "      <th>surge_pct</th>\n",
       "      <th>weekday_pct</th>\n",
       "      <th>avg_dist</th>\n",
       "      <th>avg_rating_by_driver</th>\n",
       "    </tr>\n",
       "  </thead>\n",
       "  <tbody>\n",
       "    <tr>\n",
       "      <th>count</th>\n",
       "      <td>50000.000000</td>\n",
       "      <td>41878.000000</td>\n",
       "      <td>50000.000000</td>\n",
       "      <td>50000.000000</td>\n",
       "      <td>50000.000000</td>\n",
       "      <td>50000.000000</td>\n",
       "      <td>49799.000000</td>\n",
       "    </tr>\n",
       "    <tr>\n",
       "      <th>mean</th>\n",
       "      <td>2.278200</td>\n",
       "      <td>4.601559</td>\n",
       "      <td>1.074764</td>\n",
       "      <td>8.849536</td>\n",
       "      <td>60.926084</td>\n",
       "      <td>5.796827</td>\n",
       "      <td>4.778158</td>\n",
       "    </tr>\n",
       "    <tr>\n",
       "      <th>std</th>\n",
       "      <td>3.792684</td>\n",
       "      <td>0.617338</td>\n",
       "      <td>0.222336</td>\n",
       "      <td>19.958811</td>\n",
       "      <td>37.081503</td>\n",
       "      <td>5.707357</td>\n",
       "      <td>0.446652</td>\n",
       "    </tr>\n",
       "    <tr>\n",
       "      <th>min</th>\n",
       "      <td>0.000000</td>\n",
       "      <td>1.000000</td>\n",
       "      <td>1.000000</td>\n",
       "      <td>0.000000</td>\n",
       "      <td>0.000000</td>\n",
       "      <td>0.000000</td>\n",
       "      <td>1.000000</td>\n",
       "    </tr>\n",
       "    <tr>\n",
       "      <th>25%</th>\n",
       "      <td>0.000000</td>\n",
       "      <td>4.300000</td>\n",
       "      <td>1.000000</td>\n",
       "      <td>0.000000</td>\n",
       "      <td>33.300000</td>\n",
       "      <td>2.420000</td>\n",
       "      <td>4.700000</td>\n",
       "    </tr>\n",
       "    <tr>\n",
       "      <th>50%</th>\n",
       "      <td>1.000000</td>\n",
       "      <td>4.900000</td>\n",
       "      <td>1.000000</td>\n",
       "      <td>0.000000</td>\n",
       "      <td>66.700000</td>\n",
       "      <td>3.880000</td>\n",
       "      <td>5.000000</td>\n",
       "    </tr>\n",
       "    <tr>\n",
       "      <th>75%</th>\n",
       "      <td>3.000000</td>\n",
       "      <td>5.000000</td>\n",
       "      <td>1.050000</td>\n",
       "      <td>8.600000</td>\n",
       "      <td>100.000000</td>\n",
       "      <td>6.940000</td>\n",
       "      <td>5.000000</td>\n",
       "    </tr>\n",
       "    <tr>\n",
       "      <th>max</th>\n",
       "      <td>125.000000</td>\n",
       "      <td>5.000000</td>\n",
       "      <td>8.000000</td>\n",
       "      <td>100.000000</td>\n",
       "      <td>100.000000</td>\n",
       "      <td>160.960000</td>\n",
       "      <td>5.000000</td>\n",
       "    </tr>\n",
       "  </tbody>\n",
       "</table>\n",
       "</div>"
      ],
      "text/plain": [
       "       trips_in_first_30_days  avg_rating_of_driver     avg_surge  \\\n",
       "count            50000.000000          41878.000000  50000.000000   \n",
       "mean                 2.278200              4.601559      1.074764   \n",
       "std                  3.792684              0.617338      0.222336   \n",
       "min                  0.000000              1.000000      1.000000   \n",
       "25%                  0.000000              4.300000      1.000000   \n",
       "50%                  1.000000              4.900000      1.000000   \n",
       "75%                  3.000000              5.000000      1.050000   \n",
       "max                125.000000              5.000000      8.000000   \n",
       "\n",
       "          surge_pct   weekday_pct      avg_dist  avg_rating_by_driver  \n",
       "count  50000.000000  50000.000000  50000.000000          49799.000000  \n",
       "mean       8.849536     60.926084      5.796827              4.778158  \n",
       "std       19.958811     37.081503      5.707357              0.446652  \n",
       "min        0.000000      0.000000      0.000000              1.000000  \n",
       "25%        0.000000     33.300000      2.420000              4.700000  \n",
       "50%        0.000000     66.700000      3.880000              5.000000  \n",
       "75%        8.600000    100.000000      6.940000              5.000000  \n",
       "max      100.000000    100.000000    160.960000              5.000000  "
      ]
     },
     "execution_count": 27,
     "metadata": {},
     "output_type": "execute_result"
    }
   ],
   "source": [
    "riders.describe()"
   ]
  },
  {
   "cell_type": "code",
   "execution_count": 28,
   "id": "7849842c",
   "metadata": {},
   "outputs": [],
   "source": [
    "#signup_date and last_trip_date are string objects, they should be datetime\n",
    "riders.signup_date = pd.to_datetime(riders.signup_date)\n",
    "riders.last_trip_date = pd.to_datetime(riders.last_trip_date)"
   ]
  },
  {
   "cell_type": "code",
   "execution_count": 29,
   "id": "c6afee77",
   "metadata": {},
   "outputs": [
    {
     "name": "stdout",
     "output_type": "stream",
     "text": [
      "<class 'pandas.core.frame.DataFrame'>\n",
      "RangeIndex: 50000 entries, 0 to 49999\n",
      "Data columns (total 12 columns):\n",
      " #   Column                  Non-Null Count  Dtype         \n",
      "---  ------                  --------------  -----         \n",
      " 0   city                    50000 non-null  object        \n",
      " 1   trips_in_first_30_days  50000 non-null  int64         \n",
      " 2   signup_date             50000 non-null  datetime64[ns]\n",
      " 3   avg_rating_of_driver    41878 non-null  float64       \n",
      " 4   avg_surge               50000 non-null  float64       \n",
      " 5   last_trip_date          50000 non-null  datetime64[ns]\n",
      " 6   phone                   49604 non-null  object        \n",
      " 7   surge_pct               50000 non-null  float64       \n",
      " 8   ultimate_black_user     50000 non-null  bool          \n",
      " 9   weekday_pct             50000 non-null  float64       \n",
      " 10  avg_dist                50000 non-null  float64       \n",
      " 11  avg_rating_by_driver    49799 non-null  float64       \n",
      "dtypes: bool(1), datetime64[ns](2), float64(6), int64(1), object(2)\n",
      "memory usage: 4.2+ MB\n"
     ]
    }
   ],
   "source": [
    "#check that it worked\n",
    "riders.info()"
   ]
  },
  {
   "cell_type": "code",
   "execution_count": 30,
   "id": "b04f83a0",
   "metadata": {},
   "outputs": [
    {
     "name": "stderr",
     "output_type": "stream",
     "text": [
      "/var/folders/hx/8sm9nrmx43gb93j_zrztlbjw0000gn/T/ipykernel_35840/2046956131.py:1: FutureWarning: Treating datetime data as categorical rather than numeric in `.describe` is deprecated and will be removed in a future version of pandas. Specify `datetime_is_numeric=True` to silence this warning and adopt the future behavior now.\n",
      "  riders.last_trip_date.describe()\n"
     ]
    },
    {
     "data": {
      "text/plain": [
       "count                   50000\n",
       "unique                    182\n",
       "top       2014-06-29 00:00:00\n",
       "freq                     2036\n",
       "first     2014-01-01 00:00:00\n",
       "last      2014-07-01 00:00:00\n",
       "Name: last_trip_date, dtype: object"
      ]
     },
     "execution_count": 30,
     "metadata": {},
     "output_type": "execute_result"
    }
   ],
   "source": [
    "riders.last_trip_date.describe()"
   ]
  },
  {
   "cell_type": "markdown",
   "id": "11a548e8",
   "metadata": {},
   "source": [
    "Because the last last_trip_date value was midnight on the first day of July, I am making the assumption that the data was pulled on that day and that we are interested in capturing the riders who took rides within the 30 days before the download - June 1-30. These riders will be defined as the fraction who were \"retained\" by the company, while riders who did not ride take any trips in June were \"not retained\"."
   ]
  },
  {
   "cell_type": "code",
   "execution_count": 31,
   "id": "ff7dffb2",
   "metadata": {},
   "outputs": [
    {
     "name": "stdout",
     "output_type": "stream",
     "text": [
      "0         True\n",
      "1        False\n",
      "2        False\n",
      "3         True\n",
      "4        False\n",
      "         ...  \n",
      "49995     True\n",
      "49996    False\n",
      "49997    False\n",
      "49998    False\n",
      "49999    False\n",
      "Name: last_trip_date, Length: 50000, dtype: bool\n"
     ]
    }
   ],
   "source": [
    "retained = riders.last_trip_date >= '2014-06-01'\n",
    "\n",
    "#visualize the output boolean\n",
    "print(retained)"
   ]
  },
  {
   "cell_type": "code",
   "execution_count": 32,
   "id": "dbee58fe",
   "metadata": {},
   "outputs": [
    {
     "data": {
      "text/plain": [
       "37.61"
      ]
     },
     "execution_count": 32,
     "metadata": {},
     "output_type": "execute_result"
    }
   ],
   "source": [
    "yes_retained = retained.sum()\n",
    "yes_no_retained = retained.count()\n",
    "\n",
    "percent_retention = round(100 * (yes_retained / yes_no_retained),2)\n",
    "percent_retention"
   ]
  },
  {
   "cell_type": "markdown",
   "id": "6acd67c8",
   "metadata": {},
   "source": [
    "The answer to Ultimate's first question, what percentage of riders were retained, is 37.61%.\n",
    "\n",
    "The variable we are now most interested in finding explaining/finding correlations to is the \"retained\" variable we have just created. The next step is to assess the correlation of all the other variables to this new feature."
   ]
  },
  {
   "cell_type": "code",
   "execution_count": 33,
   "id": "e8099e6e",
   "metadata": {},
   "outputs": [
    {
     "name": "stdout",
     "output_type": "stream",
     "text": [
      "<class 'pandas.core.frame.DataFrame'>\n",
      "RangeIndex: 50000 entries, 0 to 49999\n",
      "Data columns (total 12 columns):\n",
      " #   Column                  Non-Null Count  Dtype         \n",
      "---  ------                  --------------  -----         \n",
      " 0   city                    50000 non-null  object        \n",
      " 1   trips_in_first_30_days  50000 non-null  int64         \n",
      " 2   signup_date             50000 non-null  datetime64[ns]\n",
      " 3   avg_rating_of_driver    41878 non-null  float64       \n",
      " 4   avg_surge               50000 non-null  float64       \n",
      " 5   last_trip_date          50000 non-null  datetime64[ns]\n",
      " 6   phone                   49604 non-null  object        \n",
      " 7   surge_pct               50000 non-null  float64       \n",
      " 8   ultimate_black_user     50000 non-null  bool          \n",
      " 9   weekday_pct             50000 non-null  float64       \n",
      " 10  avg_dist                50000 non-null  float64       \n",
      " 11  avg_rating_by_driver    49799 non-null  float64       \n",
      "dtypes: bool(1), datetime64[ns](2), float64(6), int64(1), object(2)\n",
      "memory usage: 4.2+ MB\n"
     ]
    }
   ],
   "source": [
    "riders.info()"
   ]
  },
  {
   "cell_type": "code",
   "execution_count": 34,
   "id": "5aedab49",
   "metadata": {},
   "outputs": [],
   "source": [
    "#make boolean True/False 'ultimate_black_user' numeric\n",
    "riders['ultimate_black_user'] = riders['ultimate_black_user'] * 1"
   ]
  },
  {
   "cell_type": "code",
   "execution_count": 35,
   "id": "1a490176",
   "metadata": {},
   "outputs": [
    {
     "data": {
      "text/html": [
       "<div>\n",
       "<style scoped>\n",
       "    .dataframe tbody tr th:only-of-type {\n",
       "        vertical-align: middle;\n",
       "    }\n",
       "\n",
       "    .dataframe tbody tr th {\n",
       "        vertical-align: top;\n",
       "    }\n",
       "\n",
       "    .dataframe thead th {\n",
       "        text-align: right;\n",
       "    }\n",
       "</style>\n",
       "<table border=\"1\" class=\"dataframe\">\n",
       "  <thead>\n",
       "    <tr style=\"text-align: right;\">\n",
       "      <th></th>\n",
       "      <th>city</th>\n",
       "      <th>trips_in_first_30_days</th>\n",
       "      <th>signup_date</th>\n",
       "      <th>avg_rating_of_driver</th>\n",
       "      <th>avg_surge</th>\n",
       "      <th>last_trip_date</th>\n",
       "      <th>phone</th>\n",
       "      <th>surge_pct</th>\n",
       "      <th>ultimate_black_user</th>\n",
       "      <th>weekday_pct</th>\n",
       "      <th>avg_dist</th>\n",
       "      <th>avg_rating_by_driver</th>\n",
       "    </tr>\n",
       "  </thead>\n",
       "  <tbody>\n",
       "    <tr>\n",
       "      <th>0</th>\n",
       "      <td>King's Landing</td>\n",
       "      <td>4</td>\n",
       "      <td>25</td>\n",
       "      <td>4.7</td>\n",
       "      <td>1.10</td>\n",
       "      <td>168</td>\n",
       "      <td>iPhone</td>\n",
       "      <td>15.4</td>\n",
       "      <td>1</td>\n",
       "      <td>46.2</td>\n",
       "      <td>3.67</td>\n",
       "      <td>5.0</td>\n",
       "    </tr>\n",
       "    <tr>\n",
       "      <th>1</th>\n",
       "      <td>Astapor</td>\n",
       "      <td>0</td>\n",
       "      <td>29</td>\n",
       "      <td>5.0</td>\n",
       "      <td>1.00</td>\n",
       "      <td>125</td>\n",
       "      <td>Android</td>\n",
       "      <td>0.0</td>\n",
       "      <td>0</td>\n",
       "      <td>50.0</td>\n",
       "      <td>8.26</td>\n",
       "      <td>5.0</td>\n",
       "    </tr>\n",
       "    <tr>\n",
       "      <th>2</th>\n",
       "      <td>Astapor</td>\n",
       "      <td>3</td>\n",
       "      <td>6</td>\n",
       "      <td>4.3</td>\n",
       "      <td>1.00</td>\n",
       "      <td>7</td>\n",
       "      <td>iPhone</td>\n",
       "      <td>0.0</td>\n",
       "      <td>0</td>\n",
       "      <td>100.0</td>\n",
       "      <td>0.77</td>\n",
       "      <td>5.0</td>\n",
       "    </tr>\n",
       "    <tr>\n",
       "      <th>3</th>\n",
       "      <td>King's Landing</td>\n",
       "      <td>9</td>\n",
       "      <td>10</td>\n",
       "      <td>4.6</td>\n",
       "      <td>1.14</td>\n",
       "      <td>180</td>\n",
       "      <td>iPhone</td>\n",
       "      <td>20.0</td>\n",
       "      <td>1</td>\n",
       "      <td>80.0</td>\n",
       "      <td>2.36</td>\n",
       "      <td>4.9</td>\n",
       "    </tr>\n",
       "    <tr>\n",
       "      <th>4</th>\n",
       "      <td>Winterfell</td>\n",
       "      <td>14</td>\n",
       "      <td>27</td>\n",
       "      <td>4.4</td>\n",
       "      <td>1.19</td>\n",
       "      <td>74</td>\n",
       "      <td>Android</td>\n",
       "      <td>11.8</td>\n",
       "      <td>0</td>\n",
       "      <td>82.4</td>\n",
       "      <td>3.13</td>\n",
       "      <td>4.9</td>\n",
       "    </tr>\n",
       "  </tbody>\n",
       "</table>\n",
       "</div>"
      ],
      "text/plain": [
       "             city  trips_in_first_30_days  signup_date  avg_rating_of_driver  \\\n",
       "0  King's Landing                       4           25                   4.7   \n",
       "1         Astapor                       0           29                   5.0   \n",
       "2         Astapor                       3            6                   4.3   \n",
       "3  King's Landing                       9           10                   4.6   \n",
       "4      Winterfell                      14           27                   4.4   \n",
       "\n",
       "   avg_surge  last_trip_date    phone  surge_pct  ultimate_black_user  \\\n",
       "0       1.10             168   iPhone       15.4                    1   \n",
       "1       1.00             125  Android        0.0                    0   \n",
       "2       1.00               7   iPhone        0.0                    0   \n",
       "3       1.14             180   iPhone       20.0                    1   \n",
       "4       1.19              74  Android       11.8                    0   \n",
       "\n",
       "   weekday_pct  avg_dist  avg_rating_by_driver  \n",
       "0         46.2      3.67                   5.0  \n",
       "1         50.0      8.26                   5.0  \n",
       "2        100.0      0.77                   5.0  \n",
       "3         80.0      2.36                   4.9  \n",
       "4         82.4      3.13                   4.9  "
      ]
     },
     "execution_count": 35,
     "metadata": {},
     "output_type": "execute_result"
    }
   ],
   "source": [
    "#make datetime 'signup_date' and 'last_trip_date' numeric\n",
    "\n",
    "#convert signup date to an integer indicating number of days past the first moment of 2014\n",
    "riders['signup_date'] = riders.signup_date.dt.strftime('%Y%m%d').astype(int) - 20140100\n",
    "\n",
    "#convert last trip date to an integer indicating number of days past the first moment of 2014\n",
    "riders['last_trip_date'] = (riders.last_trip_date - min(riders.last_trip_date)).dt.days + 1\n",
    "\n",
    "riders.head()"
   ]
  },
  {
   "cell_type": "code",
   "execution_count": 36,
   "id": "84bb0f7a",
   "metadata": {},
   "outputs": [
    {
     "name": "stdout",
     "output_type": "stream",
     "text": [
      "iPhone     34582\n",
      "Android    15022\n",
      "Name: phone, dtype: int64\n",
      "Winterfell        23336\n",
      "Astapor           16534\n",
      "King's Landing    10130\n",
      "Name: city, dtype: int64\n"
     ]
    }
   ],
   "source": [
    "#'phone' and 'city' are both string objects that will need to be one-hot encoded\n",
    "#based on the non-null count above, it looks like the phone column has a few nulls \n",
    "#that will need to be filled in before one-hot encoding\n",
    "print(riders['phone'].value_counts())\n",
    "print(riders['city'].value_counts())"
   ]
  },
  {
   "cell_type": "code",
   "execution_count": 37,
   "id": "f4423dfa",
   "metadata": {},
   "outputs": [
    {
     "data": {
      "text/plain": [
       "iPhone     34582\n",
       "Android    15022\n",
       "Other        396\n",
       "Name: phone, dtype: int64"
      ]
     },
     "execution_count": 37,
     "metadata": {},
     "output_type": "execute_result"
    }
   ],
   "source": [
    "riders['phone'].fillna('Other', inplace=True)\n",
    "riders['phone'].value_counts()"
   ]
  },
  {
   "cell_type": "code",
   "execution_count": 38,
   "id": "098ccff2",
   "metadata": {},
   "outputs": [],
   "source": [
    "#one-hot encoding\n",
    "onehot_phone = pd.get_dummies(riders['phone'])\n",
    "onehot_city = pd.get_dummies(riders['city'])"
   ]
  },
  {
   "cell_type": "code",
   "execution_count": 39,
   "id": "1f6508c6",
   "metadata": {},
   "outputs": [
    {
     "data": {
      "text/html": [
       "<div>\n",
       "<style scoped>\n",
       "    .dataframe tbody tr th:only-of-type {\n",
       "        vertical-align: middle;\n",
       "    }\n",
       "\n",
       "    .dataframe tbody tr th {\n",
       "        vertical-align: top;\n",
       "    }\n",
       "\n",
       "    .dataframe thead th {\n",
       "        text-align: right;\n",
       "    }\n",
       "</style>\n",
       "<table border=\"1\" class=\"dataframe\">\n",
       "  <thead>\n",
       "    <tr style=\"text-align: right;\">\n",
       "      <th></th>\n",
       "      <th>Android</th>\n",
       "      <th>Other</th>\n",
       "      <th>iPhone</th>\n",
       "    </tr>\n",
       "  </thead>\n",
       "  <tbody>\n",
       "    <tr>\n",
       "      <th>0</th>\n",
       "      <td>0</td>\n",
       "      <td>0</td>\n",
       "      <td>1</td>\n",
       "    </tr>\n",
       "    <tr>\n",
       "      <th>1</th>\n",
       "      <td>1</td>\n",
       "      <td>0</td>\n",
       "      <td>0</td>\n",
       "    </tr>\n",
       "    <tr>\n",
       "      <th>2</th>\n",
       "      <td>0</td>\n",
       "      <td>0</td>\n",
       "      <td>1</td>\n",
       "    </tr>\n",
       "    <tr>\n",
       "      <th>3</th>\n",
       "      <td>0</td>\n",
       "      <td>0</td>\n",
       "      <td>1</td>\n",
       "    </tr>\n",
       "    <tr>\n",
       "      <th>4</th>\n",
       "      <td>1</td>\n",
       "      <td>0</td>\n",
       "      <td>0</td>\n",
       "    </tr>\n",
       "  </tbody>\n",
       "</table>\n",
       "</div>"
      ],
      "text/plain": [
       "   Android  Other  iPhone\n",
       "0        0      0       1\n",
       "1        1      0       0\n",
       "2        0      0       1\n",
       "3        0      0       1\n",
       "4        1      0       0"
      ]
     },
     "execution_count": 39,
     "metadata": {},
     "output_type": "execute_result"
    }
   ],
   "source": [
    "onehot_phone.head()"
   ]
  },
  {
   "cell_type": "code",
   "execution_count": 40,
   "id": "2e424f30",
   "metadata": {},
   "outputs": [
    {
     "data": {
      "text/html": [
       "<div>\n",
       "<style scoped>\n",
       "    .dataframe tbody tr th:only-of-type {\n",
       "        vertical-align: middle;\n",
       "    }\n",
       "\n",
       "    .dataframe tbody tr th {\n",
       "        vertical-align: top;\n",
       "    }\n",
       "\n",
       "    .dataframe thead th {\n",
       "        text-align: right;\n",
       "    }\n",
       "</style>\n",
       "<table border=\"1\" class=\"dataframe\">\n",
       "  <thead>\n",
       "    <tr style=\"text-align: right;\">\n",
       "      <th></th>\n",
       "      <th>Astapor</th>\n",
       "      <th>King's Landing</th>\n",
       "      <th>Winterfell</th>\n",
       "    </tr>\n",
       "  </thead>\n",
       "  <tbody>\n",
       "    <tr>\n",
       "      <th>0</th>\n",
       "      <td>0</td>\n",
       "      <td>1</td>\n",
       "      <td>0</td>\n",
       "    </tr>\n",
       "    <tr>\n",
       "      <th>1</th>\n",
       "      <td>1</td>\n",
       "      <td>0</td>\n",
       "      <td>0</td>\n",
       "    </tr>\n",
       "    <tr>\n",
       "      <th>2</th>\n",
       "      <td>1</td>\n",
       "      <td>0</td>\n",
       "      <td>0</td>\n",
       "    </tr>\n",
       "    <tr>\n",
       "      <th>3</th>\n",
       "      <td>0</td>\n",
       "      <td>1</td>\n",
       "      <td>0</td>\n",
       "    </tr>\n",
       "    <tr>\n",
       "      <th>4</th>\n",
       "      <td>0</td>\n",
       "      <td>0</td>\n",
       "      <td>1</td>\n",
       "    </tr>\n",
       "  </tbody>\n",
       "</table>\n",
       "</div>"
      ],
      "text/plain": [
       "   Astapor  King's Landing  Winterfell\n",
       "0        0               1           0\n",
       "1        1               0           0\n",
       "2        1               0           0\n",
       "3        0               1           0\n",
       "4        0               0           1"
      ]
     },
     "execution_count": 40,
     "metadata": {},
     "output_type": "execute_result"
    }
   ],
   "source": [
    "onehot_city.head()"
   ]
  },
  {
   "cell_type": "code",
   "execution_count": 41,
   "id": "0f510d52",
   "metadata": {},
   "outputs": [
    {
     "data": {
      "text/html": [
       "<div>\n",
       "<style scoped>\n",
       "    .dataframe tbody tr th:only-of-type {\n",
       "        vertical-align: middle;\n",
       "    }\n",
       "\n",
       "    .dataframe tbody tr th {\n",
       "        vertical-align: top;\n",
       "    }\n",
       "\n",
       "    .dataframe thead th {\n",
       "        text-align: right;\n",
       "    }\n",
       "</style>\n",
       "<table border=\"1\" class=\"dataframe\">\n",
       "  <thead>\n",
       "    <tr style=\"text-align: right;\">\n",
       "      <th></th>\n",
       "      <th>trips_in_first_30_days</th>\n",
       "      <th>signup_date</th>\n",
       "      <th>avg_rating_of_driver</th>\n",
       "      <th>avg_surge</th>\n",
       "      <th>last_trip_date</th>\n",
       "      <th>surge_pct</th>\n",
       "      <th>ultimate_black_user</th>\n",
       "      <th>weekday_pct</th>\n",
       "      <th>avg_dist</th>\n",
       "      <th>avg_rating_by_driver</th>\n",
       "      <th>Astapor</th>\n",
       "      <th>King's Landing</th>\n",
       "      <th>Winterfell</th>\n",
       "      <th>Android</th>\n",
       "      <th>Other</th>\n",
       "      <th>iPhone</th>\n",
       "    </tr>\n",
       "  </thead>\n",
       "  <tbody>\n",
       "    <tr>\n",
       "      <th>0</th>\n",
       "      <td>4</td>\n",
       "      <td>25</td>\n",
       "      <td>4.7</td>\n",
       "      <td>1.10</td>\n",
       "      <td>168</td>\n",
       "      <td>15.4</td>\n",
       "      <td>1</td>\n",
       "      <td>46.2</td>\n",
       "      <td>3.67</td>\n",
       "      <td>5.0</td>\n",
       "      <td>0</td>\n",
       "      <td>1</td>\n",
       "      <td>0</td>\n",
       "      <td>0</td>\n",
       "      <td>0</td>\n",
       "      <td>1</td>\n",
       "    </tr>\n",
       "    <tr>\n",
       "      <th>1</th>\n",
       "      <td>0</td>\n",
       "      <td>29</td>\n",
       "      <td>5.0</td>\n",
       "      <td>1.00</td>\n",
       "      <td>125</td>\n",
       "      <td>0.0</td>\n",
       "      <td>0</td>\n",
       "      <td>50.0</td>\n",
       "      <td>8.26</td>\n",
       "      <td>5.0</td>\n",
       "      <td>1</td>\n",
       "      <td>0</td>\n",
       "      <td>0</td>\n",
       "      <td>1</td>\n",
       "      <td>0</td>\n",
       "      <td>0</td>\n",
       "    </tr>\n",
       "    <tr>\n",
       "      <th>2</th>\n",
       "      <td>3</td>\n",
       "      <td>6</td>\n",
       "      <td>4.3</td>\n",
       "      <td>1.00</td>\n",
       "      <td>7</td>\n",
       "      <td>0.0</td>\n",
       "      <td>0</td>\n",
       "      <td>100.0</td>\n",
       "      <td>0.77</td>\n",
       "      <td>5.0</td>\n",
       "      <td>1</td>\n",
       "      <td>0</td>\n",
       "      <td>0</td>\n",
       "      <td>0</td>\n",
       "      <td>0</td>\n",
       "      <td>1</td>\n",
       "    </tr>\n",
       "    <tr>\n",
       "      <th>3</th>\n",
       "      <td>9</td>\n",
       "      <td>10</td>\n",
       "      <td>4.6</td>\n",
       "      <td>1.14</td>\n",
       "      <td>180</td>\n",
       "      <td>20.0</td>\n",
       "      <td>1</td>\n",
       "      <td>80.0</td>\n",
       "      <td>2.36</td>\n",
       "      <td>4.9</td>\n",
       "      <td>0</td>\n",
       "      <td>1</td>\n",
       "      <td>0</td>\n",
       "      <td>0</td>\n",
       "      <td>0</td>\n",
       "      <td>1</td>\n",
       "    </tr>\n",
       "    <tr>\n",
       "      <th>4</th>\n",
       "      <td>14</td>\n",
       "      <td>27</td>\n",
       "      <td>4.4</td>\n",
       "      <td>1.19</td>\n",
       "      <td>74</td>\n",
       "      <td>11.8</td>\n",
       "      <td>0</td>\n",
       "      <td>82.4</td>\n",
       "      <td>3.13</td>\n",
       "      <td>4.9</td>\n",
       "      <td>0</td>\n",
       "      <td>0</td>\n",
       "      <td>1</td>\n",
       "      <td>1</td>\n",
       "      <td>0</td>\n",
       "      <td>0</td>\n",
       "    </tr>\n",
       "  </tbody>\n",
       "</table>\n",
       "</div>"
      ],
      "text/plain": [
       "   trips_in_first_30_days  signup_date  avg_rating_of_driver  avg_surge  \\\n",
       "0                       4           25                   4.7       1.10   \n",
       "1                       0           29                   5.0       1.00   \n",
       "2                       3            6                   4.3       1.00   \n",
       "3                       9           10                   4.6       1.14   \n",
       "4                      14           27                   4.4       1.19   \n",
       "\n",
       "   last_trip_date  surge_pct  ultimate_black_user  weekday_pct  avg_dist  \\\n",
       "0             168       15.4                    1         46.2      3.67   \n",
       "1             125        0.0                    0         50.0      8.26   \n",
       "2               7        0.0                    0        100.0      0.77   \n",
       "3             180       20.0                    1         80.0      2.36   \n",
       "4              74       11.8                    0         82.4      3.13   \n",
       "\n",
       "   avg_rating_by_driver  Astapor  King's Landing  Winterfell  Android  Other  \\\n",
       "0                   5.0        0               1           0        0      0   \n",
       "1                   5.0        1               0           0        1      0   \n",
       "2                   5.0        1               0           0        0      0   \n",
       "3                   4.9        0               1           0        0      0   \n",
       "4                   4.9        0               0           1        1      0   \n",
       "\n",
       "   iPhone  \n",
       "0       1  \n",
       "1       0  \n",
       "2       1  \n",
       "3       1  \n",
       "4       0  "
      ]
     },
     "execution_count": 41,
     "metadata": {},
     "output_type": "execute_result"
    }
   ],
   "source": [
    "#join these two new dataframes to the original dataframe, then drop the original city and phone columns\n",
    "riders = riders.join(onehot_city).join(onehot_phone)\n",
    "riders.drop(['city','phone'], axis=1, inplace=True)\n",
    "\n",
    "riders.head()"
   ]
  },
  {
   "cell_type": "code",
   "execution_count": 42,
   "id": "0b13c156",
   "metadata": {},
   "outputs": [
    {
     "data": {
      "text/html": [
       "<div>\n",
       "<style scoped>\n",
       "    .dataframe tbody tr th:only-of-type {\n",
       "        vertical-align: middle;\n",
       "    }\n",
       "\n",
       "    .dataframe tbody tr th {\n",
       "        vertical-align: top;\n",
       "    }\n",
       "\n",
       "    .dataframe thead th {\n",
       "        text-align: right;\n",
       "    }\n",
       "</style>\n",
       "<table border=\"1\" class=\"dataframe\">\n",
       "  <thead>\n",
       "    <tr style=\"text-align: right;\">\n",
       "      <th></th>\n",
       "      <th>trips_in_first_30_days</th>\n",
       "      <th>signup_date</th>\n",
       "      <th>avg_rating_of_driver</th>\n",
       "      <th>avg_surge</th>\n",
       "      <th>last_trip_date</th>\n",
       "      <th>surge_pct</th>\n",
       "      <th>ultimate_black_user</th>\n",
       "      <th>weekday_pct</th>\n",
       "      <th>avg_dist</th>\n",
       "      <th>avg_rating_by_driver</th>\n",
       "      <th>Astapor</th>\n",
       "      <th>King's Landing</th>\n",
       "      <th>Winterfell</th>\n",
       "      <th>Android</th>\n",
       "      <th>Other</th>\n",
       "      <th>iPhone</th>\n",
       "      <th>retained</th>\n",
       "    </tr>\n",
       "  </thead>\n",
       "  <tbody>\n",
       "    <tr>\n",
       "      <th>0</th>\n",
       "      <td>4</td>\n",
       "      <td>25</td>\n",
       "      <td>4.7</td>\n",
       "      <td>1.10</td>\n",
       "      <td>168</td>\n",
       "      <td>15.4</td>\n",
       "      <td>1</td>\n",
       "      <td>46.2</td>\n",
       "      <td>3.67</td>\n",
       "      <td>5.0</td>\n",
       "      <td>0</td>\n",
       "      <td>1</td>\n",
       "      <td>0</td>\n",
       "      <td>0</td>\n",
       "      <td>0</td>\n",
       "      <td>1</td>\n",
       "      <td>True</td>\n",
       "    </tr>\n",
       "    <tr>\n",
       "      <th>1</th>\n",
       "      <td>0</td>\n",
       "      <td>29</td>\n",
       "      <td>5.0</td>\n",
       "      <td>1.00</td>\n",
       "      <td>125</td>\n",
       "      <td>0.0</td>\n",
       "      <td>0</td>\n",
       "      <td>50.0</td>\n",
       "      <td>8.26</td>\n",
       "      <td>5.0</td>\n",
       "      <td>1</td>\n",
       "      <td>0</td>\n",
       "      <td>0</td>\n",
       "      <td>1</td>\n",
       "      <td>0</td>\n",
       "      <td>0</td>\n",
       "      <td>False</td>\n",
       "    </tr>\n",
       "    <tr>\n",
       "      <th>2</th>\n",
       "      <td>3</td>\n",
       "      <td>6</td>\n",
       "      <td>4.3</td>\n",
       "      <td>1.00</td>\n",
       "      <td>7</td>\n",
       "      <td>0.0</td>\n",
       "      <td>0</td>\n",
       "      <td>100.0</td>\n",
       "      <td>0.77</td>\n",
       "      <td>5.0</td>\n",
       "      <td>1</td>\n",
       "      <td>0</td>\n",
       "      <td>0</td>\n",
       "      <td>0</td>\n",
       "      <td>0</td>\n",
       "      <td>1</td>\n",
       "      <td>False</td>\n",
       "    </tr>\n",
       "    <tr>\n",
       "      <th>3</th>\n",
       "      <td>9</td>\n",
       "      <td>10</td>\n",
       "      <td>4.6</td>\n",
       "      <td>1.14</td>\n",
       "      <td>180</td>\n",
       "      <td>20.0</td>\n",
       "      <td>1</td>\n",
       "      <td>80.0</td>\n",
       "      <td>2.36</td>\n",
       "      <td>4.9</td>\n",
       "      <td>0</td>\n",
       "      <td>1</td>\n",
       "      <td>0</td>\n",
       "      <td>0</td>\n",
       "      <td>0</td>\n",
       "      <td>1</td>\n",
       "      <td>True</td>\n",
       "    </tr>\n",
       "    <tr>\n",
       "      <th>4</th>\n",
       "      <td>14</td>\n",
       "      <td>27</td>\n",
       "      <td>4.4</td>\n",
       "      <td>1.19</td>\n",
       "      <td>74</td>\n",
       "      <td>11.8</td>\n",
       "      <td>0</td>\n",
       "      <td>82.4</td>\n",
       "      <td>3.13</td>\n",
       "      <td>4.9</td>\n",
       "      <td>0</td>\n",
       "      <td>0</td>\n",
       "      <td>1</td>\n",
       "      <td>1</td>\n",
       "      <td>0</td>\n",
       "      <td>0</td>\n",
       "      <td>False</td>\n",
       "    </tr>\n",
       "  </tbody>\n",
       "</table>\n",
       "</div>"
      ],
      "text/plain": [
       "   trips_in_first_30_days  signup_date  avg_rating_of_driver  avg_surge  \\\n",
       "0                       4           25                   4.7       1.10   \n",
       "1                       0           29                   5.0       1.00   \n",
       "2                       3            6                   4.3       1.00   \n",
       "3                       9           10                   4.6       1.14   \n",
       "4                      14           27                   4.4       1.19   \n",
       "\n",
       "   last_trip_date  surge_pct  ultimate_black_user  weekday_pct  avg_dist  \\\n",
       "0             168       15.4                    1         46.2      3.67   \n",
       "1             125        0.0                    0         50.0      8.26   \n",
       "2               7        0.0                    0        100.0      0.77   \n",
       "3             180       20.0                    1         80.0      2.36   \n",
       "4              74       11.8                    0         82.4      3.13   \n",
       "\n",
       "   avg_rating_by_driver  Astapor  King's Landing  Winterfell  Android  Other  \\\n",
       "0                   5.0        0               1           0        0      0   \n",
       "1                   5.0        1               0           0        1      0   \n",
       "2                   5.0        1               0           0        0      0   \n",
       "3                   4.9        0               1           0        0      0   \n",
       "4                   4.9        0               0           1        1      0   \n",
       "\n",
       "   iPhone  retained  \n",
       "0       1      True  \n",
       "1       0     False  \n",
       "2       1     False  \n",
       "3       1      True  \n",
       "4       0     False  "
      ]
     },
     "execution_count": 42,
     "metadata": {},
     "output_type": "execute_result"
    }
   ],
   "source": [
    "#add rider retention to dataframe\n",
    "riders['retained'] = retained\n",
    "riders.head()"
   ]
  },
  {
   "cell_type": "code",
   "execution_count": 43,
   "id": "7ccad820",
   "metadata": {},
   "outputs": [
    {
     "data": {
      "text/html": [
       "<div>\n",
       "<style scoped>\n",
       "    .dataframe tbody tr th:only-of-type {\n",
       "        vertical-align: middle;\n",
       "    }\n",
       "\n",
       "    .dataframe tbody tr th {\n",
       "        vertical-align: top;\n",
       "    }\n",
       "\n",
       "    .dataframe thead th {\n",
       "        text-align: right;\n",
       "    }\n",
       "</style>\n",
       "<table border=\"1\" class=\"dataframe\">\n",
       "  <thead>\n",
       "    <tr style=\"text-align: right;\">\n",
       "      <th></th>\n",
       "      <th>trips_in_first_30_days</th>\n",
       "      <th>signup_date</th>\n",
       "      <th>avg_rating_of_driver</th>\n",
       "      <th>avg_surge</th>\n",
       "      <th>last_trip_date</th>\n",
       "      <th>surge_pct</th>\n",
       "      <th>ultimate_black_user</th>\n",
       "      <th>weekday_pct</th>\n",
       "      <th>avg_dist</th>\n",
       "      <th>avg_rating_by_driver</th>\n",
       "      <th>Astapor</th>\n",
       "      <th>King's Landing</th>\n",
       "      <th>Winterfell</th>\n",
       "      <th>Android</th>\n",
       "      <th>Other</th>\n",
       "      <th>iPhone</th>\n",
       "      <th>retained</th>\n",
       "    </tr>\n",
       "  </thead>\n",
       "  <tbody>\n",
       "    <tr>\n",
       "      <th>0</th>\n",
       "      <td>4</td>\n",
       "      <td>25</td>\n",
       "      <td>4.7</td>\n",
       "      <td>1.10</td>\n",
       "      <td>168</td>\n",
       "      <td>15.4</td>\n",
       "      <td>1</td>\n",
       "      <td>46.2</td>\n",
       "      <td>3.67</td>\n",
       "      <td>5.0</td>\n",
       "      <td>0</td>\n",
       "      <td>1</td>\n",
       "      <td>0</td>\n",
       "      <td>0</td>\n",
       "      <td>0</td>\n",
       "      <td>1</td>\n",
       "      <td>1</td>\n",
       "    </tr>\n",
       "    <tr>\n",
       "      <th>1</th>\n",
       "      <td>0</td>\n",
       "      <td>29</td>\n",
       "      <td>5.0</td>\n",
       "      <td>1.00</td>\n",
       "      <td>125</td>\n",
       "      <td>0.0</td>\n",
       "      <td>0</td>\n",
       "      <td>50.0</td>\n",
       "      <td>8.26</td>\n",
       "      <td>5.0</td>\n",
       "      <td>1</td>\n",
       "      <td>0</td>\n",
       "      <td>0</td>\n",
       "      <td>1</td>\n",
       "      <td>0</td>\n",
       "      <td>0</td>\n",
       "      <td>0</td>\n",
       "    </tr>\n",
       "    <tr>\n",
       "      <th>2</th>\n",
       "      <td>3</td>\n",
       "      <td>6</td>\n",
       "      <td>4.3</td>\n",
       "      <td>1.00</td>\n",
       "      <td>7</td>\n",
       "      <td>0.0</td>\n",
       "      <td>0</td>\n",
       "      <td>100.0</td>\n",
       "      <td>0.77</td>\n",
       "      <td>5.0</td>\n",
       "      <td>1</td>\n",
       "      <td>0</td>\n",
       "      <td>0</td>\n",
       "      <td>0</td>\n",
       "      <td>0</td>\n",
       "      <td>1</td>\n",
       "      <td>0</td>\n",
       "    </tr>\n",
       "    <tr>\n",
       "      <th>3</th>\n",
       "      <td>9</td>\n",
       "      <td>10</td>\n",
       "      <td>4.6</td>\n",
       "      <td>1.14</td>\n",
       "      <td>180</td>\n",
       "      <td>20.0</td>\n",
       "      <td>1</td>\n",
       "      <td>80.0</td>\n",
       "      <td>2.36</td>\n",
       "      <td>4.9</td>\n",
       "      <td>0</td>\n",
       "      <td>1</td>\n",
       "      <td>0</td>\n",
       "      <td>0</td>\n",
       "      <td>0</td>\n",
       "      <td>1</td>\n",
       "      <td>1</td>\n",
       "    </tr>\n",
       "    <tr>\n",
       "      <th>4</th>\n",
       "      <td>14</td>\n",
       "      <td>27</td>\n",
       "      <td>4.4</td>\n",
       "      <td>1.19</td>\n",
       "      <td>74</td>\n",
       "      <td>11.8</td>\n",
       "      <td>0</td>\n",
       "      <td>82.4</td>\n",
       "      <td>3.13</td>\n",
       "      <td>4.9</td>\n",
       "      <td>0</td>\n",
       "      <td>0</td>\n",
       "      <td>1</td>\n",
       "      <td>1</td>\n",
       "      <td>0</td>\n",
       "      <td>0</td>\n",
       "      <td>0</td>\n",
       "    </tr>\n",
       "  </tbody>\n",
       "</table>\n",
       "</div>"
      ],
      "text/plain": [
       "   trips_in_first_30_days  signup_date  avg_rating_of_driver  avg_surge  \\\n",
       "0                       4           25                   4.7       1.10   \n",
       "1                       0           29                   5.0       1.00   \n",
       "2                       3            6                   4.3       1.00   \n",
       "3                       9           10                   4.6       1.14   \n",
       "4                      14           27                   4.4       1.19   \n",
       "\n",
       "   last_trip_date  surge_pct  ultimate_black_user  weekday_pct  avg_dist  \\\n",
       "0             168       15.4                    1         46.2      3.67   \n",
       "1             125        0.0                    0         50.0      8.26   \n",
       "2               7        0.0                    0        100.0      0.77   \n",
       "3             180       20.0                    1         80.0      2.36   \n",
       "4              74       11.8                    0         82.4      3.13   \n",
       "\n",
       "   avg_rating_by_driver  Astapor  King's Landing  Winterfell  Android  Other  \\\n",
       "0                   5.0        0               1           0        0      0   \n",
       "1                   5.0        1               0           0        1      0   \n",
       "2                   5.0        1               0           0        0      0   \n",
       "3                   4.9        0               1           0        0      0   \n",
       "4                   4.9        0               0           1        1      0   \n",
       "\n",
       "   iPhone  retained  \n",
       "0       1         1  \n",
       "1       0         0  \n",
       "2       1         0  \n",
       "3       1         1  \n",
       "4       0         0  "
      ]
     },
     "execution_count": 43,
     "metadata": {},
     "output_type": "execute_result"
    }
   ],
   "source": [
    "#'retained' is a boolean of True/False - make it numeric\n",
    "riders['retained'] = riders['retained'] * 1\n",
    "riders.head()"
   ]
  },
  {
   "cell_type": "code",
   "execution_count": 44,
   "id": "eba6a0c5",
   "metadata": {},
   "outputs": [
    {
     "data": {
      "image/png": "[encoded data removed]",
      "text/plain": [
       "<Figure size 432x288 with 2 Axes>"
      ]
     },
     "metadata": {
      "needs_background": "light"
     },
     "output_type": "display_data"
    }
   ],
   "source": [
    "#all the variables are now numeric (with the exception of the dates) so we can make a correlation heatmap \n",
    "#and see if there are any strong correlations\n",
    "import seaborn as sns\n",
    "\n",
    "fig, ax = plt.figure(), plt.subplot()\n",
    "corr = riders.corr()\n",
    "ax = sns.heatmap(corr)\n",
    "plt.show()"
   ]
  },
  {
   "cell_type": "code",
   "execution_count": 45,
   "id": "51a34f11",
   "metadata": {},
   "outputs": [
    {
     "data": {
      "text/plain": [
       "retained                  1.000000\n",
       "last_trip_date            0.780837\n",
       "King's Landing            0.262284\n",
       "iPhone                    0.225244\n",
       "trips_in_first_30_days    0.210463\n",
       "ultimate_black_user       0.205002\n",
       "surge_pct                 0.011797\n",
       "weekday_pct               0.009693\n",
       "avg_surge                -0.003333\n",
       "Other                    -0.007419\n",
       "avg_rating_of_driver     -0.011653\n",
       "signup_date              -0.020211\n",
       "avg_rating_by_driver     -0.026791\n",
       "Winterfell               -0.046611\n",
       "avg_dist                 -0.092780\n",
       "Astapor                  -0.174655\n",
       "Android                  -0.225464\n",
       "Name: retained, dtype: float64"
      ]
     },
     "execution_count": 45,
     "metadata": {},
     "output_type": "execute_result"
    }
   ],
   "source": [
    "#check which variables are most strongly correlated with retention\n",
    "corr['retained'].sort_values(ascending=False)"
   ]
  },
  {
   "cell_type": "markdown",
   "id": "9f094ef9",
   "metadata": {},
   "source": [
    "It appears that the variables most strongly correlated with rider retention are living in King's Landing, having an iPhone, number of trips taken in the first 30 days, and Ultimate Black User status. We ignore the high correlation between last trip date and the retention status because that is obvious and expected - we defined retention based on the last trip date. It is a good sanity check though.\n",
    "\n",
    "Building a predictive model - this problem will require a predictive model to output a binary classification using categorical data (phones, cities) and numerical data (all the other columns) with 50,000 data points.\n",
    "\n",
    "Some good potential options are logistic regression, random forest, and XGBoost. I will use a Logistic Regression model."
   ]
  },
  {
   "cell_type": "code",
   "execution_count": 59,
   "id": "36690ee6",
   "metadata": {},
   "outputs": [],
   "source": [
    "from sklearn.linear_model import LogisticRegression\n",
    "from sklearn.metrics import accuracy_score, classification_report, confusion_matrix\n",
    "from sklearn.model_selection import train_test_split, RandomizedSearchCV, GridSearchCV"
   ]
  },
  {
   "cell_type": "code",
   "execution_count": 65,
   "id": "2b0e64b4",
   "metadata": {},
   "outputs": [
    {
     "name": "stdout",
     "output_type": "stream",
     "text": [
      "<class 'pandas.core.frame.DataFrame'>\n",
      "Int64Index: 41744 entries, 0 to 49998\n",
      "Data columns (total 17 columns):\n",
      " #   Column                  Non-Null Count  Dtype  \n",
      "---  ------                  --------------  -----  \n",
      " 0   trips_in_first_30_days  41744 non-null  int64  \n",
      " 1   signup_date             41744 non-null  int64  \n",
      " 2   avg_rating_of_driver    41744 non-null  float64\n",
      " 3   avg_surge               41744 non-null  float64\n",
      " 4   last_trip_date          41744 non-null  int64  \n",
      " 5   surge_pct               41744 non-null  float64\n",
      " 6   ultimate_black_user     41744 non-null  int64  \n",
      " 7   weekday_pct             41744 non-null  float64\n",
      " 8   avg_dist                41744 non-null  float64\n",
      " 9   avg_rating_by_driver    41744 non-null  float64\n",
      " 10  Astapor                 41744 non-null  uint8  \n",
      " 11  King's Landing          41744 non-null  uint8  \n",
      " 12  Winterfell              41744 non-null  uint8  \n",
      " 13  Android                 41744 non-null  uint8  \n",
      " 14  Other                   41744 non-null  uint8  \n",
      " 15  iPhone                  41744 non-null  uint8  \n",
      " 16  retained                41744 non-null  int64  \n",
      "dtypes: float64(6), int64(5), uint8(6)\n",
      "memory usage: 4.1 MB\n"
     ]
    }
   ],
   "source": [
    "#drop rows with NaN values in order to allow the Logistic Regression model to work\n",
    "riders = riders.dropna()\n",
    "\n",
    "riders.info()"
   ]
  },
  {
   "cell_type": "code",
   "execution_count": 74,
   "id": "f639e3d2",
   "metadata": {},
   "outputs": [],
   "source": [
    "#define features for model - the chosen variables are positively correlated with retention\n",
    "features = [\"trips_in_first_30_days\", \"King's Landing\", \"iPhone\", \"ultimate_black_user\", \"surge_pct\", \"weekday_pct\"]\n",
    "\n",
    "X = riders[features]\n",
    "y = riders['retained']\n",
    "\n",
    "#split testing and training data\n",
    "X_train, X_test, y_train, y_test = train_test_split(X, y, test_size=0.3, random_state=42) "
   ]
  },
  {
   "cell_type": "code",
   "execution_count": 76,
   "id": "83215784",
   "metadata": {},
   "outputs": [
    {
     "data": {
      "text/plain": [
       "LogisticRegression(max_iter=500)"
      ]
     },
     "execution_count": 76,
     "metadata": {},
     "output_type": "execute_result"
    }
   ],
   "source": [
    "#instantiate the model classifier and fit to training data\n",
    "lr_clf = LogisticRegression(max_iter=500)\n",
    "\n",
    "lr_clf.fit(X_train, y_train)"
   ]
  },
  {
   "cell_type": "code",
   "execution_count": 77,
   "id": "11a18794",
   "metadata": {},
   "outputs": [],
   "source": [
    "#predict y-labels using model/training data\n",
    "y_pred_tr = lr_clf.predict(X_train)"
   ]
  },
  {
   "cell_type": "code",
   "execution_count": 78,
   "id": "59e4abb8",
   "metadata": {},
   "outputs": [
    {
     "data": {
      "text/plain": [
       "0.7051334702258727"
      ]
     },
     "execution_count": 78,
     "metadata": {},
     "output_type": "execute_result"
    }
   ],
   "source": [
    "training_score = accuracy_score(y_train, y_pred_tr)\n",
    "training_score"
   ]
  },
  {
   "cell_type": "markdown",
   "id": "41b2caf0",
   "metadata": {},
   "source": [
    "The model accuracy with the training data is 70.5%. Let's see how it does with the test set of data."
   ]
  },
  {
   "cell_type": "code",
   "execution_count": 80,
   "id": "6263949c",
   "metadata": {},
   "outputs": [
    {
     "data": {
      "text/plain": [
       "0.7014532098371128"
      ]
     },
     "execution_count": 80,
     "metadata": {},
     "output_type": "execute_result"
    }
   ],
   "source": [
    "y_pred_te = lr_clf.predict(X_test)\n",
    "\n",
    "testing_score = accuracy_score(y_test, y_pred_te)\n",
    "testing_score"
   ]
  },
  {
   "cell_type": "markdown",
   "id": "3f63e2f6",
   "metadata": {},
   "source": [
    "Only slightly less accurate. The model isn't overfit to the training data.\n",
    "\n",
    "Further analysis of the results:"
   ]
  },
  {
   "cell_type": "code",
   "execution_count": 85,
   "id": "c1855ae0",
   "metadata": {},
   "outputs": [
    {
     "data": {
      "text/plain": [
       "array([[6039, 1303],\n",
       "       [2436, 2746]])"
      ]
     },
     "execution_count": 85,
     "metadata": {},
     "output_type": "execute_result"
    }
   ],
   "source": [
    "#confusion matrix from the testing data\n",
    "cm = confusion_matrix(y_test, y_pred_te, labels = lr_clf.classes_)\n",
    "cm"
   ]
  },
  {
   "cell_type": "code",
   "execution_count": 88,
   "id": "0712bbc3",
   "metadata": {},
   "outputs": [
    {
     "name": "stdout",
     "output_type": "stream",
     "text": [
      "              precision    recall  f1-score   support\n",
      "\n",
      "           0       0.72      0.83      0.77     17244\n",
      "           1       0.68      0.53      0.60     11976\n",
      "\n",
      "    accuracy                           0.71     29220\n",
      "   macro avg       0.70      0.68      0.68     29220\n",
      "weighted avg       0.70      0.71      0.70     29220\n",
      "\n"
     ]
    }
   ],
   "source": [
    "#training data classification report\n",
    "print(classification_report(y_train, y_pred_tr))"
   ]
  },
  {
   "cell_type": "code",
   "execution_count": 89,
   "id": "776f3227",
   "metadata": {},
   "outputs": [
    {
     "name": "stdout",
     "output_type": "stream",
     "text": [
      "              precision    recall  f1-score   support\n",
      "\n",
      "           0       0.71      0.82      0.76      7342\n",
      "           1       0.68      0.53      0.59      5182\n",
      "\n",
      "    accuracy                           0.70     12524\n",
      "   macro avg       0.70      0.68      0.68     12524\n",
      "weighted avg       0.70      0.70      0.69     12524\n",
      "\n"
     ]
    }
   ],
   "source": [
    "#testing data classification report\n",
    "print(classification_report(y_test, y_pred_te))"
   ]
  },
  {
   "cell_type": "markdown",
   "id": "fdf6ace3",
   "metadata": {},
   "source": [
    "These numbers aren't too bad. We can predict with 70% accuracy whether a rider will be retained or not using this model. I will also try using an XGBoost model to see if I can improve upon this predictive ability with a different model type. XGBoost is well suited to the data and memory efficient."
   ]
  },
  {
   "cell_type": "code",
   "execution_count": 90,
   "id": "3c873814",
   "metadata": {},
   "outputs": [
    {
     "data": {
      "text/plain": [
       "XGBClassifier(base_score=0.5, booster='gbtree', callbacks=None,\n",
       "              colsample_bylevel=1, colsample_bynode=1, colsample_bytree=1,\n",
       "              early_stopping_rounds=None, enable_categorical=False,\n",
       "              eval_metric=None, feature_types=None, gamma=0, gpu_id=-1,\n",
       "              grow_policy='depthwise', importance_type=None,\n",
       "              interaction_constraints='', learning_rate=0.300000012,\n",
       "              max_bin=256, max_cat_threshold=64, max_cat_to_onehot=4,\n",
       "              max_delta_step=0, max_depth=8, max_leaves=0, min_child_weight=1,\n",
       "              missing=nan, monotone_constraints='()', n_estimators=10, n_jobs=0,\n",
       "              num_parallel_tree=1, predictor='auto', random_state=42, ...)"
      ]
     },
     "execution_count": 90,
     "metadata": {},
     "output_type": "execute_result"
    }
   ],
   "source": [
    "from xgboost import XGBClassifier, cv, plot_importance\n",
    "\n",
    "xgb_clf = XGBClassifier(objective='binary:logistic', random_state=42, n_estimators=10, max_depth=8)\n",
    "xgb_clf.fit(X_train, y_train)"
   ]
  },
  {
   "cell_type": "code",
   "execution_count": 91,
   "id": "6d55e495",
   "metadata": {},
   "outputs": [
    {
     "data": {
      "text/plain": [
       "0.7854893908281999"
      ]
     },
     "execution_count": 91,
     "metadata": {},
     "output_type": "execute_result"
    }
   ],
   "source": [
    "xgb_y_pred = xgb_clf.predict(X_train)\n",
    "\n",
    "xgb_training_score = accuracy_score(y_train, xgb_y_pred)\n",
    "xgb_training_score"
   ]
  },
  {
   "cell_type": "markdown",
   "id": "2f332dfd",
   "metadata": {},
   "source": [
    "This accuracy value is higher! The hyperparameters of this model also haven't been adjusted, so I can do a quick optimization using a Grid Search to see if I can improve the model accuracy even more."
   ]
  },
  {
   "cell_type": "code",
   "execution_count": 93,
   "id": "f20b441d",
   "metadata": {},
   "outputs": [
    {
     "data": {
      "text/plain": [
       "GridSearchCV(cv=3,\n",
       "             estimator=XGBClassifier(base_score=0.5, booster='gbtree',\n",
       "                                     callbacks=None, colsample_bylevel=1,\n",
       "                                     colsample_bynode=1, colsample_bytree=1,\n",
       "                                     early_stopping_rounds=None,\n",
       "                                     enable_categorical=False, eval_metric=None,\n",
       "                                     feature_types=None, gamma=0, gpu_id=-1,\n",
       "                                     grow_policy='depthwise',\n",
       "                                     importance_type=None,\n",
       "                                     interaction_constraints='',\n",
       "                                     learning_rate=0.300000012...\n",
       "                                     max_delta_step=0, max_depth=8,\n",
       "                                     max_leaves=0, min_child_weight=1,\n",
       "                                     missing=nan, monotone_constraints='()',\n",
       "                                     n_estimators=10, n_jobs=0,\n",
       "                                     num_parallel_tree=1, predictor='auto',\n",
       "                                     random_state=42, ...),\n",
       "             param_grid={'gamma': [1, 2, 3], 'learning_rate': [0.25, 0.2, 0.1],\n",
       "                         'max_delta_step': [0, 0.05],\n",
       "                         'min_child_weight': [0, 1, 2],\n",
       "                         'scale_pos_weight': [0.95, 0.9],\n",
       "                         'subsample': [1, 0.8]},\n",
       "             scoring='accuracy')"
      ]
     },
     "execution_count": 93,
     "metadata": {},
     "output_type": "execute_result"
    }
   ],
   "source": [
    "#dictionary of parameters to optimize with range of optimization values\n",
    "parameters = {\n",
    "    'max_delta_step':[0,0.05],\n",
    "    'scale_pos_weight':[0.95, 0.9],\n",
    "    'subsample':[1,0.8],\n",
    "    'learning_rate': [0.25, 0.2, 0.1],\n",
    "    'min_child_weight':[0,1,2],\n",
    "    'gamma':[1, 2, 3]\n",
    "    }\n",
    "\n",
    "\n",
    "#GridSearch\n",
    "grid_search = GridSearchCV(param_grid=parameters, estimator=xgb_clf, cv=3, scoring='accuracy')\n",
    "grid_search.fit(X_train, y_train)"
   ]
  },
  {
   "cell_type": "code",
   "execution_count": 94,
   "id": "066fa1c9",
   "metadata": {},
   "outputs": [
    {
     "name": "stdout",
     "output_type": "stream",
     "text": [
      "{'gamma': 3, 'learning_rate': 0.25, 'max_delta_step': 0, 'min_child_weight': 0, 'scale_pos_weight': 0.95, 'subsample': 0.8}\n",
      "0.7684120465434634\n"
     ]
    }
   ],
   "source": [
    "#print best parameters and results\n",
    "print(grid_search.best_params_)\n",
    "print(grid_search.best_score_)"
   ]
  },
  {
   "cell_type": "code",
   "execution_count": 95,
   "id": "1a07dd9e",
   "metadata": {},
   "outputs": [
    {
     "data": {
      "text/plain": [
       "XGBClassifier(base_score=0.5, booster='gbtree', callbacks=None,\n",
       "              colsample_bylevel=1, colsample_bynode=1, colsample_bytree=1,\n",
       "              early_stopping_rounds=None, enable_categorical=False,\n",
       "              eval_metric=None, feature_types=None, gamma=3, gpu_id=-1,\n",
       "              grow_policy='depthwise', importance_type=None,\n",
       "              interaction_constraints='', learning_rate=0.25, max_bin=256,\n",
       "              max_cat_threshold=64, max_cat_to_onehot=4, max_delta_step=0,\n",
       "              max_depth=8, max_leaves=0, min_child_weight=0, missing=nan,\n",
       "              monotone_constraints='()', n_estimators=10, n_jobs=0,\n",
       "              num_parallel_tree=1, predictor='auto', random_state=42, ...)"
      ]
     },
     "execution_count": 95,
     "metadata": {},
     "output_type": "execute_result"
    }
   ],
   "source": [
    "#optimized parameters\n",
    "optimized_parameters = {'objective':'binary:logistic',\n",
    "                        'n_estimators': 10,\n",
    "                        'random_state': 42,\n",
    "                        'subsample': 0.8, \n",
    "                        'scale_pos_weight': 0.95, \n",
    "                        'min_child_weight': 0, \n",
    "                        'max_depth': 8, \n",
    "                        'max_delta_step': 0, \n",
    "                        'learning_rate': 0.25, \n",
    "                        'gamma': 3\n",
    "                       }\n",
    "\n",
    "#instantiate and train new classifier with the optimized parameters\n",
    "xgb_clf_opt = XGBClassifier(**optimized_parameters)\n",
    "xgb_clf_opt.fit(X_train, y_train)"
   ]
  },
  {
   "cell_type": "code",
   "execution_count": 96,
   "id": "c6dbd16c",
   "metadata": {},
   "outputs": [
    {
     "data": {
      "text/plain": [
       "0.7816906228610541"
      ]
     },
     "execution_count": 96,
     "metadata": {},
     "output_type": "execute_result"
    }
   ],
   "source": [
    "xgb_y_pred_opt = xgb_clf_opt.predict(X_train)\n",
    "\n",
    "xgb_opt_training_score = accuracy_score(y_train, xgb_y_pred_opt)\n",
    "xgb_opt_training_score"
   ]
  },
  {
   "cell_type": "markdown",
   "id": "7ef0f3f2",
   "metadata": {},
   "source": [
    "This is a slightly lower accuracy score than we achieved with the XGBoost model with unoptimized parameters.\n",
    "\n",
    "Since these XGBoost accuracy scores are both using the training data and not the testing data, there's a chance that the unoptimized model is only better because it's slightly overfit to the training data. We will verify by checking on the testing data then decide on a final model."
   ]
  },
  {
   "cell_type": "code",
   "execution_count": 98,
   "id": "b1f1e009",
   "metadata": {},
   "outputs": [
    {
     "name": "stdout",
     "output_type": "stream",
     "text": [
      "0.7686841264771639\n"
     ]
    }
   ],
   "source": [
    "#testing data with unoptimized XGB model\n",
    "xgb_y_pred_test = xgb_clf.predict(X_test)\n",
    "\n",
    "print(accuracy_score(y_test, xgb_y_pred_test))"
   ]
  },
  {
   "cell_type": "code",
   "execution_count": 99,
   "id": "9a590f9e",
   "metadata": {},
   "outputs": [
    {
     "name": "stdout",
     "output_type": "stream",
     "text": [
      "0.7687639731715107\n"
     ]
    }
   ],
   "source": [
    "#testing data with optimized XGB model\n",
    "xgb_y_pred_opt_test = xgb_clf_opt.predict(X_test)\n",
    "\n",
    "print(accuracy_score(y_test, xgb_y_pred_opt_test))"
   ]
  },
  {
   "cell_type": "markdown",
   "id": "0ffd2bc4",
   "metadata": {},
   "source": [
    "The numbers are only very slightly different. Ultimately, I'll go with the optimized model even though the result is only a tiny bit better. \n",
    "\n",
    "Further analysis:"
   ]
  },
  {
   "cell_type": "code",
   "execution_count": 101,
   "id": "b28df9f0",
   "metadata": {},
   "outputs": [
    {
     "data": {
      "text/plain": [
       "<AxesSubplot:title={'center':'Feature importance'}, xlabel='F score', ylabel='Features'>"
      ]
     },
     "execution_count": 101,
     "metadata": {},
     "output_type": "execute_result"
    },
    {
     "data": {
      "image/png": "[encoded data removed]",
      "text/plain": [
       "<Figure size 432x288 with 1 Axes>"
      ]
     },
     "metadata": {
      "needs_background": "light"
     },
     "output_type": "display_data"
    }
   ],
   "source": [
    "plot_importance(xgb_clf_opt)"
   ]
  },
  {
   "cell_type": "markdown",
   "id": "7a497fe7",
   "metadata": {},
   "source": [
    "Of the features analyzed, the ones more impactful on rider retention are percentage of trips taken on a weekday and number of trips taken in the first 30 days. I would recommend that Ultimate focus on the weekday rider group as their key opportunity for retention. These are likely people using the service to get to work on weekdays and will theoretically be easier to retain anyway as it is a necessity for them to make that journey."
   ]
  },
  {
   "cell_type": "code",
   "execution_count": null,
   "id": "e92697d3",
   "metadata": {},
   "outputs": [],
   "source": []
  },
  {
   "cell_type": "code",
   "execution_count": null,
   "id": "44a1cfcc",
   "metadata": {},
   "outputs": [],
   "source": []
  }
 ],
 "metadata": {
  "kernelspec": {
   "display_name": "Python 3 (ipykernel)",
   "language": "python",
   "name": "python3"
  },
  "language_info": {
   "codemirror_mode": {
    "name": "ipython",
    "version": 3
   },
   "file_extension": ".py",
   "mimetype": "text/x-python",
   "name": "python",
   "nbconvert_exporter": "python",
   "pygments_lexer": "ipython3",
   "version": "3.9.12"
  }
 },
 "nbformat": 4,
 "nbformat_minor": 5
}
